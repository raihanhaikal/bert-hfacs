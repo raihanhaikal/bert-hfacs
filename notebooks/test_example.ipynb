{
 "cells": [
  {
   "cell_type": "code",
   "execution_count": 1,
   "metadata": {},
   "outputs": [
    {
     "name": "stderr",
     "output_type": "stream",
     "text": [
      "e:\\code\\project-list\\bert-hfacs\\.venv\\Lib\\site-packages\\tqdm\\auto.py:21: TqdmWarning: IProgress not found. Please update jupyter and ipywidgets. See https://ipywidgets.readthedocs.io/en/stable/user_install.html\n",
      "  from .autonotebook import tqdm as notebook_tqdm\n"
     ]
    }
   ],
   "source": [
    "import torch\n",
    "import numpy as np\n",
    "from transformers import BertTokenizer, BertConfig\n",
    "from transformers import BertForSequenceClassification"
   ]
  },
  {
   "cell_type": "code",
   "execution_count": 2,
   "metadata": {},
   "outputs": [],
   "source": [
    "import random\n",
    "\n",
    "def set_seed(seed):\n",
    "    random.seed(seed)\n",
    "    np.random.seed(seed)\n",
    "    torch.manual_seed(seed)\n",
    "    torch.cuda.manual_seed(seed)\n",
    "\n",
    "set_seed(1)"
   ]
  },
  {
   "cell_type": "markdown",
   "metadata": {},
   "source": [
    "Preprocess"
   ]
  },
  {
   "cell_type": "code",
   "execution_count": 3,
   "metadata": {},
   "outputs": [],
   "source": [
    "import re\n",
    "import string\n",
    "from Sastrawi.Stemmer.StemmerFactory import StemmerFactory\n",
    "from Sastrawi.StopWordRemover.StopWordRemoverFactory import StopWordRemoverFactory\n",
    "\n",
    "def preprocessed(data):\n",
    "    # Mengubah teks menjadi huruf kecil\n",
    "    data = data.lower()\n",
    "    # Menghapus angka\n",
    "    data = re.sub(r\"\\d+\", \"\", data)\n",
    "    # Menghapus tanda baca\n",
    "    data = re.sub(f\"[{re.escape(string.punctuation)}]\", \"\", data)\n",
    "    # Menghapus karakter khusus\n",
    "    data = re.sub(r\"[^\\x00-\\x7f]\", \"\", data)\n",
    "    # Menghapus spasi berlebih\n",
    "    data = re.sub(r\"\\s+\", \" \", data).strip()\n",
    "    # Melakukan Stemming/lemmatization\n",
    "    factory = StemmerFactory()\n",
    "    stemmer = factory.create_stemmer()\n",
    "    data = stemmer.stem(data)\n",
    "    # Melakukan Stopword Removal\n",
    "    factory = StopWordRemoverFactory()\n",
    "    stopword_remover = factory.create_stop_word_remover()\n",
    "    data = stopword_remover.remove(data)\n",
    "\n",
    "    return data"
   ]
  },
  {
   "cell_type": "markdown",
   "metadata": {},
   "source": [
    "Fungsi Load Model"
   ]
  },
  {
   "cell_type": "code",
   "execution_count": 4,
   "metadata": {},
   "outputs": [],
   "source": [
    "import os\n",
    "\n",
    "def load_model(model, load_model_name=\"model\", load_model_dir=\"E:/code/project-list/bert-hfacs/models/model_trained/\"):\n",
    "    # Pastikan direktori ada, jika tidak buat\n",
    "    os.makedirs(load_model_dir, exist_ok=True)\n",
    "\n",
    "    # Gabungkan nama model dengan ekstensi .pth\n",
    "    load_model_name_with_extension = load_model_name + \".pth\"\n",
    "\n",
    "    # Jika CUDA tidak tersedia, muat model ke CPU\n",
    "    device = torch.device('cuda' if torch.cuda.is_available() else 'cpu')\n",
    "    \n",
    "    # Gabungkan direktori dan nama file model\n",
    "    load_path = os.path.join(load_model_dir, load_model_name_with_extension)\n",
    "\n",
    "    # Save model\n",
    "    model.load_state_dict(\n",
    "        torch.load(\n",
    "            load_path,\n",
    "            weights_only=True,\n",
    "            map_location=device,\n",
    "        )\n",
    "    )\n",
    "    print(\"Model Weight Loaded\")\n",
    "    return model"
   ]
  },
  {
   "cell_type": "markdown",
   "metadata": {},
   "source": [
    "Load Model Fine-Tuned IndoBERT"
   ]
  },
  {
   "cell_type": "code",
   "execution_count": 5,
   "metadata": {},
   "outputs": [
    {
     "name": "stderr",
     "output_type": "stream",
     "text": [
      "Some weights of BertForSequenceClassification were not initialized from the model checkpoint at E:/code/project-list/bert-hfacs/models/indobert_large and are newly initialized: ['classifier.bias', 'classifier.weight']\n",
      "You should probably TRAIN this model on a down-stream task to be able to use it for predictions and inference.\n"
     ]
    },
    {
     "name": "stdout",
     "output_type": "stream",
     "text": [
      "Model Weight Loaded\n"
     ]
    },
    {
     "data": {
      "text/plain": [
       "BertForSequenceClassification(\n",
       "  (bert): BertModel(\n",
       "    (embeddings): BertEmbeddings(\n",
       "      (word_embeddings): Embedding(30522, 1024, padding_idx=0)\n",
       "      (position_embeddings): Embedding(512, 1024)\n",
       "      (token_type_embeddings): Embedding(2, 1024)\n",
       "      (LayerNorm): LayerNorm((1024,), eps=1e-12, elementwise_affine=True)\n",
       "      (dropout): Dropout(p=0.1, inplace=False)\n",
       "    )\n",
       "    (encoder): BertEncoder(\n",
       "      (layer): ModuleList(\n",
       "        (0-23): 24 x BertLayer(\n",
       "          (attention): BertAttention(\n",
       "            (self): BertSdpaSelfAttention(\n",
       "              (query): Linear(in_features=1024, out_features=1024, bias=True)\n",
       "              (key): Linear(in_features=1024, out_features=1024, bias=True)\n",
       "              (value): Linear(in_features=1024, out_features=1024, bias=True)\n",
       "              (dropout): Dropout(p=0.1, inplace=False)\n",
       "            )\n",
       "            (output): BertSelfOutput(\n",
       "              (dense): Linear(in_features=1024, out_features=1024, bias=True)\n",
       "              (LayerNorm): LayerNorm((1024,), eps=1e-12, elementwise_affine=True)\n",
       "              (dropout): Dropout(p=0.1, inplace=False)\n",
       "            )\n",
       "          )\n",
       "          (intermediate): BertIntermediate(\n",
       "            (dense): Linear(in_features=1024, out_features=4096, bias=True)\n",
       "            (intermediate_act_fn): GELUActivation()\n",
       "          )\n",
       "          (output): BertOutput(\n",
       "            (dense): Linear(in_features=4096, out_features=1024, bias=True)\n",
       "            (LayerNorm): LayerNorm((1024,), eps=1e-12, elementwise_affine=True)\n",
       "            (dropout): Dropout(p=0.1, inplace=False)\n",
       "          )\n",
       "        )\n",
       "      )\n",
       "    )\n",
       "    (pooler): BertPooler(\n",
       "      (dense): Linear(in_features=1024, out_features=1024, bias=True)\n",
       "      (activation): Tanh()\n",
       "    )\n",
       "  )\n",
       "  (dropout): Dropout(p=0.1, inplace=False)\n",
       "  (classifier): Linear(in_features=1024, out_features=2, bias=True)\n",
       ")"
      ]
     },
     "execution_count": 5,
     "metadata": {},
     "output_type": "execute_result"
    }
   ],
   "source": [
    "model_path = \"E:/code/project-list/bert-hfacs/models/indobert_large\"\n",
    "config = BertConfig.from_pretrained(\n",
    "    model_path,\n",
    "    num_hidden_layers=24,\n",
    "    num_attention_heads=16,\n",
    "    hidden_size=1024,\n",
    "    num_labels= 2\n",
    ")\n",
    "\n",
    "tokenizer = BertTokenizer.from_pretrained(model_path)\n",
    "\n",
    "model = BertForSequenceClassification.from_pretrained(\n",
    "    model_path,\n",
    "    config=config,\n",
    ")\n",
    "\n",
    "model = load_model(model, load_model_name=\"indobert_large_E10_LR1e-4_BS16\")\n",
    "\n",
    "device = torch.device('cuda' if torch.cuda.is_available() else 'cpu')\n",
    "model.to(device)"
   ]
  },
  {
   "cell_type": "code",
   "execution_count": 6,
   "metadata": {},
   "outputs": [],
   "source": [
    "# Contoh input teks\n",
    "input_text = \"Dari penelitian dan wawancara yang dilakukan di ketahui bahwa pengemudi yang bersangkutan kurang memiliki pengalaman dan keterampilan dalam menghadapi kondisi darurat terutama kendaraan yang terbakar\""
   ]
  },
  {
   "cell_type": "code",
   "execution_count": 7,
   "metadata": {},
   "outputs": [
    {
     "name": "stdout",
     "output_type": "stream",
     "text": [
      "teliti wawancara laku tahu kemudi sangkut kurang milik alam terampil hadap kondisi darurat utama kendara bakar\n"
     ]
    }
   ],
   "source": [
    "input_text_preprocessed = preprocessed(input_text)\n",
    "print(input_text_preprocessed)"
   ]
  },
  {
   "cell_type": "code",
   "execution_count": 8,
   "metadata": {},
   "outputs": [
    {
     "name": "stdout",
     "output_type": "stream",
     "text": [
      "{'UA': 0, 'PRE': 1}\n",
      "{0: 'UA', 1: 'PRE'}\n"
     ]
    }
   ],
   "source": [
    "LABEL2INDEX = {\"UA\": 0, \"PRE\": 1}\n",
    "INDEX2LABEL = {0: \"UA\", 1: \"PRE\"}\n",
    "\n",
    "w2i, i2w = LABEL2INDEX, INDEX2LABEL\n",
    "print(w2i)\n",
    "print(i2w)"
   ]
  },
  {
   "cell_type": "code",
   "execution_count": 13,
   "metadata": {},
   "outputs": [
    {
     "name": "stdout",
     "output_type": "stream",
     "text": [
      "tensor([[    2,  8989,  5267,  5427,   899, 22110,  9940,    63,  1057,  2318,\n",
      "           668, 14375, 26384,  1186,  8491,  1256,  1596,    85,  3456,     3]],\n",
      "       device='cuda:0')\n"
     ]
    }
   ],
   "source": [
    "subwords = tokenizer.encode(input_text_preprocessed)\n",
    "subwords = torch.LongTensor(subwords).view(1, -1).to(model.device)\n",
    "print(subwords)"
   ]
  },
  {
   "cell_type": "code",
   "execution_count": 14,
   "metadata": {},
   "outputs": [
    {
     "name": "stdout",
     "output_type": "stream",
     "text": [
      "tensor([[ 0.2064, -0.1592]], device='cuda:0', grad_fn=<AddmmBackward0>)\n"
     ]
    }
   ],
   "source": [
    "logits = model(subwords)[0]\n",
    "print(logits)"
   ]
  },
  {
   "cell_type": "code",
   "execution_count": 15,
   "metadata": {},
   "outputs": [
    {
     "name": "stdout",
     "output_type": "stream",
     "text": [
      "0\n"
     ]
    }
   ],
   "source": [
    "label = torch.topk(logits, k=1, dim=-1)[1].squeeze().item()\n",
    "print(label)"
   ]
  },
  {
   "cell_type": "code",
   "execution_count": 16,
   "metadata": {},
   "outputs": [
    {
     "name": "stdout",
     "output_type": "stream",
     "text": [
      "Text: Dari penelitian dan wawancara yang dilakukan di ketahui bahwa pengemudi yang bersangkutan kurang memiliki pengalaman dan keterampilan dalam menghadapi kondisi darurat terutama kendaraan yang terbakar | Label : UA (59.041%)\n"
     ]
    }
   ],
   "source": [
    "import torch.nn.functional as F\n",
    "print(f'Text: {input_text} | Label : {i2w[label]} ({F.softmax(logits, dim=-1).squeeze()[label] * 100:.3f}%)')"
   ]
  }
 ],
 "metadata": {
  "kernelspec": {
   "display_name": ".venv",
   "language": "python",
   "name": "python3"
  },
  "language_info": {
   "codemirror_mode": {
    "name": "ipython",
    "version": 3
   },
   "file_extension": ".py",
   "mimetype": "text/x-python",
   "name": "python",
   "nbconvert_exporter": "python",
   "pygments_lexer": "ipython3",
   "version": "3.12.4"
  }
 },
 "nbformat": 4,
 "nbformat_minor": 2
}
