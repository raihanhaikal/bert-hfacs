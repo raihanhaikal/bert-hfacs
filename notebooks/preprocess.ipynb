{
 "cells": [
  {
   "cell_type": "code",
   "execution_count": 1,
   "metadata": {},
   "outputs": [],
   "source": [
    "import re\n",
    "import string\n",
    "import pandas as pd\n",
    "from Sastrawi.Stemmer.StemmerFactory import StemmerFactory\n",
    "from Sastrawi.StopWordRemover.StopWordRemoverFactory import StopWordRemoverFactory"
   ]
  },
  {
   "cell_type": "code",
   "execution_count": 2,
   "metadata": {},
   "outputs": [],
   "source": [
    "def preprocessed(data):\n",
    "    # Mengubah teks menjadi huruf kecil\n",
    "    data[\"text\"] = data[\"text\"].str.lower()\n",
    "    # Menghapus angka\n",
    "    data[\"text\"] = data[\"text\"].str.replace(r\"\\d+\", \"\", regex=True)\n",
    "    # Menghapus tanda baca\n",
    "    data[\"text\"] = data[\"text\"].str.replace(\n",
    "        f\"[{re.escape(string.punctuation)}]\", \"\", regex=True\n",
    "    )\n",
    "    # Menghapus karakter khusus\n",
    "    data[\"text\"] = data[\"text\"].str.replace(r\"[^\\x00-\\x7f]\", \"\", regex=True)\n",
    "    # Menghapus spasi berlebih\n",
    "    data[\"text\"] = data[\"text\"].str.replace(r\"\\s+\", \" \", regex=True).str.strip()\n",
    "    # Melakukan Stemming/lemmatization\n",
    "    factory = StemmerFactory()\n",
    "    stemmer = factory.create_stemmer()\n",
    "    data[\"text\"] = data[\"text\"].apply(stemmer.stem)\n",
    "    # Melakukan Stopword Removal\n",
    "    factory = StopWordRemoverFactory()\n",
    "    stopword_remover = factory.create_stop_word_remover()\n",
    "    data[\"text\"] = data[\"text\"].apply(stopword_remover.remove)\n",
    "\n",
    "    return data"
   ]
  },
  {
   "cell_type": "code",
   "execution_count": null,
   "metadata": {},
   "outputs": [],
   "source": [
    "data_train = pd.read_excel (\"E:/code/project-list/bert-hfacs/data/interim/train_before_preprocessed.xlsx\")\n",
    "data_test = pd.read_excel (\"E:/code/project-list/bert-hfacs/data/interim/test_before_preprocessed.xlsx\")\n",
    "data_train_aug = pd.read_excel (\"E:/code/project-list/bert-hfacs/data/interim/train_aug_before_preprocessed.xlsx\")"
   ]
  },
  {
   "cell_type": "code",
   "execution_count": null,
   "metadata": {},
   "outputs": [],
   "source": [
    "data_train = preprocessed(data_train)\n",
    "data_test = preprocessed(data_test)\n",
    "data_train_aug = preprocessed(data_train_aug)"
   ]
  },
  {
   "cell_type": "code",
   "execution_count": null,
   "metadata": {},
   "outputs": [],
   "source": [
    "data_train.to_csv(\"E:/code/project-list/bert-hfacs/data/processed/train.csv\", index=False)\n",
    "data_test.to_csv(\"E:/code/project-list/bert-hfacs/data/processed/test.csv\", index=False)\n",
    "data_train_aug.to_csv(\"E:/code/project-list/bert-hfacs/data/processed/train_aug.csv\", index=False)"
   ]
  },
  {
   "cell_type": "code",
   "execution_count": 3,
   "metadata": {},
   "outputs": [],
   "source": [
    "data_test = pd.read_csv (\"E:/code/project-list/bert-hfacs/data/processed/test.csv\")"
   ]
  }
 ],
 "metadata": {
  "kernelspec": {
   "display_name": ".venv",
   "language": "python",
   "name": "python3"
  },
  "language_info": {
   "codemirror_mode": {
    "name": "ipython",
    "version": 3
   },
   "file_extension": ".py",
   "mimetype": "text/x-python",
   "name": "python",
   "nbconvert_exporter": "python",
   "pygments_lexer": "ipython3",
   "version": "3.12.4"
  }
 },
 "nbformat": 4,
 "nbformat_minor": 2
}
